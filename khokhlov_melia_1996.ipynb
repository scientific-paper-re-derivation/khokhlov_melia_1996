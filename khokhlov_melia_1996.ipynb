{
 "cells": [
  {
   "cell_type": "markdown",
   "metadata": {},
   "source": [
    "[ADS Entry](http://adsabs.harvard.edu/abs/1996ApJ...457L..61K)"
   ]
  },
  {
   "cell_type": "code",
   "execution_count": 40,
   "metadata": {
    "collapsed": true
   },
   "outputs": [],
   "source": [
    "import sympy\n",
    "sympy.init_printing()"
   ]
  },
  {
   "cell_type": "markdown",
   "metadata": {},
   "source": [
    "Equation 1"
   ]
  },
  {
   "cell_type": "code",
   "execution_count": 41,
   "metadata": {},
   "outputs": [
    {
     "data": {
      "image/png": "[encoded data removed]",
      "text/latex": [
       "$$v_{p} = \\sqrt{G} \\sqrt{M_{bh}} \\sqrt{\\frac{1}{R_{p}}}$$"
      ],
      "text/plain": [
       "                       ____\n",
       "          ________    ╱ 1  \n",
       "vₚ = √G⋅╲╱ M_{bh} ⋅  ╱  ── \n",
       "                   ╲╱   Rₚ "
      ]
     },
     "execution_count": 41,
     "metadata": {},
     "output_type": "execute_result"
    }
   ],
   "source": [
    "G = sympy.Symbol('G', positive=True) # Universal constant of gravitation\n",
    "M_bh = sympy.Symbol(r'M_{bh}', positive=True) # Black hole mass\n",
    "R_p = sympy.Symbol('R_p') # Periapse distance\n",
    "v_p = sympy.Symbol('v_p') # Periapse velocity\n",
    "eqn_1 = sympy.Eq(v_p,sympy.sqrt(G*M_bh/R_p))\n",
    "eqn_1"
   ]
  },
  {
   "cell_type": "markdown",
   "metadata": {},
   "source": [
    "Equation 2"
   ]
  },
  {
   "cell_type": "code",
   "execution_count": 42,
   "metadata": {},
   "outputs": [
    {
     "data": {
      "image/png": "[encoded data removed]",
      "text/latex": [
       "$$F = \\frac{G R_{*}}{R_{p}^{3}} M_{bh}$$"
      ],
      "text/plain": [
       "    G⋅M_{bh}⋅R_*\n",
       "F = ────────────\n",
       "          3     \n",
       "        Rₚ      "
      ]
     },
     "execution_count": 42,
     "metadata": {},
     "output_type": "execute_result"
    }
   ],
   "source": [
    "F = sympy.Symbol('F') # Tidal force\n",
    "R_star = sympy.Symbol('R_*') # Stellar radius\n",
    "eqn_2 = sympy.Eq(F,G*M_bh*R_star/R_p**3)\n",
    "eqn_2"
   ]
  },
  {
   "cell_type": "markdown",
   "metadata": {},
   "source": [
    "Equation 3"
   ]
  },
  {
   "cell_type": "code",
   "execution_count": 43,
   "metadata": {},
   "outputs": [
    {
     "data": {
      "image/png": "[encoded data removed]",
      "text/latex": [
       "$$W = \\frac{G M_{*}}{R_{p}^{3}} M_{bh} R_{*}^{2}$$"
      ],
      "text/plain": [
       "                    2\n",
       "    G⋅M_*⋅M_{bh}⋅R_* \n",
       "W = ─────────────────\n",
       "             3       \n",
       "           Rₚ        "
      ]
     },
     "execution_count": 43,
     "metadata": {},
     "output_type": "execute_result"
    }
   ],
   "source": [
    "M_star = sympy.Symbol('M_*') # Stellar mass\n",
    "W = sympy.Symbol('W') # Gravitational work by the black hole\n",
    "_ = F*M_star*R_star\n",
    "_ = _.subs(eqn_2.lhs,eqn_2.rhs)\n",
    "eqn_3 = sympy.Eq(W,_)\n",
    "eqn_3"
   ]
  },
  {
   "cell_type": "markdown",
   "metadata": {},
   "source": [
    "Equation 4"
   ]
  },
  {
   "cell_type": "code",
   "execution_count": 44,
   "metadata": {},
   "outputs": [
    {
     "data": {
      "image/png": "[encoded data removed]",
      "text/latex": [
       "$$v_{\\parallel} = \\sqrt{G} \\sqrt{M_{bh}} \\sqrt{\\frac{R_{*}^{2}}{R_{p}^{3}}}$$"
      ],
      "text/plain": [
       "                                    ______\n",
       "                                   ╱    2 \n",
       "                     ________     ╱  R_*  \n",
       "v_{\\parallel} = √G⋅╲╱ M_{bh} ⋅   ╱   ──── \n",
       "                                ╱      3  \n",
       "                              ╲╱     Rₚ   "
      ]
     },
     "execution_count": 44,
     "metadata": {},
     "output_type": "execute_result"
    }
   ],
   "source": [
    "v_para = sympy.Symbol(r'v_{\\parallel}') # Velocity of unbound debris\n",
    "_ = sympy.sqrt(F*R_star)\n",
    "_ = _.subs(eqn_2.lhs, eqn_2.rhs)\n",
    "eqn_4 = sympy.Eq(v_para,_)\n",
    "eqn_4"
   ]
  },
  {
   "cell_type": "markdown",
   "metadata": {
    "collapsed": true
   },
   "source": [
    "I totally disagree with equations 5 - 7. The perpendicular velocity can exceed the pre - disruption escape velocity, as was discussed in Brassart and Luminet."
   ]
  },
  {
   "cell_type": "markdown",
   "metadata": {},
   "source": [
    "Equation 8"
   ]
  },
  {
   "cell_type": "code",
   "execution_count": 45,
   "metadata": {},
   "outputs": [
    {
     "data": {
      "image/png": "[encoded data removed]",
      "text/latex": [
       "$$R = \\frac{R_{p} \\left(e + 1\\right)}{e \\cos{\\left (\\psi \\right )} + 1}$$"
      ],
      "text/plain": [
       "     Rₚ⋅(e + 1) \n",
       "R = ────────────\n",
       "    e⋅cos(ψ) + 1"
      ]
     },
     "execution_count": 45,
     "metadata": {},
     "output_type": "execute_result"
    }
   ],
   "source": [
    "R = sympy.Symbol('R') # Distance from the black hole\n",
    "psi = sympy.Symbol('psi') # True anomaly\n",
    "e = sympy.Symbol('e') # Eccentricity\n",
    "eqn_8 = sympy.Eq(R, R_p*(1+e)/(1+e*sympy.cos(psi)))\n",
    "eqn_8"
   ]
  },
  {
   "cell_type": "markdown",
   "metadata": {},
   "source": [
    "Equation 9"
   ]
  },
  {
   "cell_type": "code",
   "execution_count": 46,
   "metadata": {},
   "outputs": [
    {
     "data": {
      "image/png": "[encoded data removed]",
      "text/latex": [
       "$$e = \\frac{1}{G M_{bh}} \\sqrt{G^{2} M_{bh}^{2} + L^{2} v_{\\infty}^{2}}$$"
      ],
      "text/plain": [
       "       _____________________________\n",
       "      ╱  2       2    2           2 \n",
       "    ╲╱  G ⋅M_{bh}  + L ⋅v_{\\infty}  \n",
       "e = ────────────────────────────────\n",
       "                G⋅M_{bh}            "
      ]
     },
     "execution_count": 46,
     "metadata": {},
     "output_type": "execute_result"
    }
   ],
   "source": [
    "v_inf = sympy.Symbol(r'v_{\\infty}', positive=True) # Velocity at infinity\n",
    "v_r = sympy.Symbol('v_r') # Radial velocity\n",
    "v_psi = sympy.Symbol('v_psi') # Tangential velocity\n",
    "psi_dot = sympy.Symbol(r'\\dot{\\psi}') # Angular velocity\n",
    "L = sympy.Symbol('L') # Angular momentum\n",
    "_ = sympy.Eq(v_inf**2/2, -G*M_bh/R+(v_r**2+v_psi**2)/2)\n",
    "_ = _.subs(v_psi,R*psi_dot)\n",
    "_ = _.subs(v_r,sympy.Derivative(R,psi)*psi_dot)\n",
    "_ = _.subs(psi_dot,L/R**2)\n",
    "_ = _.subs(eqn_8.lhs, eqn_8.rhs)\n",
    "_ = _.doit().simplify()\n",
    "_ = sympy.solve([_.subs(psi,0),_.subs(psi,sympy.pi/2)],[R_p,e])[1][1]\n",
    "eqn_9 = sympy.Eq(e,_)\n",
    "eqn_9"
   ]
  },
  {
   "cell_type": "markdown",
   "metadata": {},
   "source": [
    "Equation 10"
   ]
  },
  {
   "cell_type": "code",
   "execution_count": 47,
   "metadata": {},
   "outputs": [
    {
     "data": {
      "image/png": "[encoded data removed]",
      "text/latex": [
       "$$\\cos{\\left (\\psi_{\\infty} \\right )} = - \\frac{1}{e}$$"
      ],
      "text/plain": [
       "                     -1 \n",
       "cos(\\psi_{\\infty}) = ───\n",
       "                      e "
      ]
     },
     "execution_count": 47,
     "metadata": {},
     "output_type": "execute_result"
    }
   ],
   "source": [
    "psi_inf = sympy.Symbol(r'\\psi_{\\infty}') # True anomaly at infinite distance\n",
    "_ = eqn_8\n",
    "_ = _.rhs\n",
    "_ = sympy.fraction(_)[1]\n",
    "_ = sympy.solve(_,sympy.cos(psi))[0]\n",
    "eqn_10 = sympy.Eq(sympy.cos(psi_inf),_)\n",
    "eqn_10"
   ]
  },
  {
   "cell_type": "markdown",
   "metadata": {},
   "source": [
    "Equation 11"
   ]
  },
  {
   "cell_type": "code",
   "execution_count": 51,
   "metadata": {},
   "outputs": [
    {
     "data": {
      "image/png": "[encoded data removed]",
      "text/latex": [
       "$$v_{\\perp \\infty} = \\frac{v_{\\infty}^{2} v_{\\perp}}{v_{0}^{2}}$$"
      ],
      "text/plain": [
       "                             2          \n",
       "                   v_{\\infty} ⋅v_{\\perp}\n",
       "v_{\\perp \\infty} = ─────────────────────\n",
       "                              2         \n",
       "                            v₀          "
      ]
     },
     "execution_count": 51,
     "metadata": {},
     "output_type": "execute_result"
    }
   ],
   "source": [
    "v_perp = sympy.Symbol(r'v_{\\perp}') # Velocity perpendicular to the plane of motion\n",
    "v_0 = sympy.Symbol('v_0') # Velocity at periapse\n",
    "v_perp_inf = sympy.Symbol(r'v_{\\perp \\infty}')\n",
    "_ = v_inf*sympy.sin(psi_inf)*v_perp/v_0\n",
    "_ = _.subs(sympy.sin(psi_inf),sympy.sqrt(1-sympy.cos(psi_inf)**2))\n",
    "_ = _.subs(eqn_10.lhs, eqn_10.rhs)\n",
    "_ = _.subs(eqn_9.lhs,eqn_9.rhs)\n",
    "_ = _.series(L,0,2).removeO()\n",
    "_ = _.simplify()\n",
    "_ = _.subs(L,v_0*R_p)\n",
    "_ = _.subs(R_p,G*M_bh/v_0**2)\n",
    "eqn_11 = sympy.Eq(v_perp_inf,_)\n",
    "eqn_11"
   ]
  },
  {
   "cell_type": "markdown",
   "metadata": {},
   "source": [
    "Equation 12"
   ]
  },
  {
   "cell_type": "code",
   "execution_count": 53,
   "metadata": {},
   "outputs": [
    {
     "data": {
      "image/png": "[encoded data removed]",
      "text/latex": [
       "$$\\alpha_{\\perp} = \\frac{v_{\\perp \\infty}}{v_{\\infty}}$$"
      ],
      "text/plain": [
       "                 v_{\\perp \\infty}\n",
       "\\alpha_{\\perp} = ────────────────\n",
       "                    v_{\\infty}   "
      ]
     },
     "execution_count": 53,
     "metadata": {},
     "output_type": "execute_result"
    }
   ],
   "source": [
    "alpha_perp = sympy.Symbol(r'\\alpha_{\\perp}')\n",
    "eqn_12 = sympy.Eq(alpha_perp,v_perp_inf/v_inf)\n",
    "eqn_12"
   ]
  },
  {
   "cell_type": "markdown",
   "metadata": {},
   "source": [
    "Equation 13"
   ]
  },
  {
   "cell_type": "code",
   "execution_count": 65,
   "metadata": {},
   "outputs": [
    {
     "data": {
      "image/png": "[encoded data removed]",
      "text/latex": [
       "$$\\alpha_{\\parallel} = \\frac{v_{\\infty}}{v_{0}}$$"
      ],
      "text/plain": [
       "                     v_{\\infty}\n",
       "\\alpha_{\\parallel} = ──────────\n",
       "                         v₀    "
      ]
     },
     "execution_count": 65,
     "metadata": {},
     "output_type": "execute_result"
    }
   ],
   "source": [
    "alpha_para = sympy.Symbol(r'\\alpha_{\\parallel}')\n",
    "_ = sympy.sin(sympy.pi-psi_inf)\n",
    "_ = _.subs(sympy.sin(psi_inf),sympy.sqrt(1-sympy.cos(psi_inf)**2))\n",
    "_ = _.subs(eqn_10.lhs, eqn_10.rhs)\n",
    "_ = _.subs(eqn_9.lhs, eqn_9.rhs)\n",
    "_ = _.series(L,0,2).removeO()\n",
    "_ = _.subs(L,R_p*v_0)\n",
    "_ = _.subs(R_p,G*M_bh/v_0**2)\n",
    "_ = _.simplify()\n",
    "eqn_13 = sympy.Eq(alpha_para,_)\n",
    "eqn_13"
   ]
  },
  {
   "cell_type": "markdown",
   "metadata": {},
   "source": [
    "Equation 14"
   ]
  },
  {
   "cell_type": "code",
   "execution_count": 74,
   "metadata": {},
   "outputs": [
    {
     "data": {
      "image/png": "[encoded data removed]",
      "text/latex": [
       "$$\\Omega = \\frac{v_{\\infty}^{2} v_{\\perp}}{v_{0}^{3}}$$"
      ],
      "text/plain": [
       "              2          \n",
       "    v_{\\infty} ⋅v_{\\perp}\n",
       "Ω = ─────────────────────\n",
       "               3         \n",
       "             v₀          "
      ]
     },
     "execution_count": 74,
     "metadata": {},
     "output_type": "execute_result"
    }
   ],
   "source": [
    "Omega = sympy.Symbol('Omega') # Solid angle\n",
    "_ = sympy.Eq(Omega, alpha_para*alpha_perp)\n",
    "_ = _.subs(eqn_13.lhs, eqn_13.rhs)\n",
    "_ = _.subs(eqn_12.lhs, eqn_12.rhs)\n",
    "_ = _.subs(eqn_11.lhs, eqn_11.rhs)\n",
    "eqn_14 = _\n",
    "eqn_14"
   ]
  },
  {
   "cell_type": "markdown",
   "metadata": {},
   "source": [
    "Equation 15"
   ]
  },
  {
   "cell_type": "code",
   "execution_count": 76,
   "metadata": {},
   "outputs": [
    {
     "data": {
      "image/png": "[encoded data removed]",
      "text/latex": [
       "$$E_{\\rm dep} = \\frac{M_{*} R_{*}}{R_{p}^{2}} G M_{bh}$$"
      ],
      "text/plain": [
       "              G⋅M_*⋅M_{bh}⋅R_*\n",
       "E_{\\rm dep} = ────────────────\n",
       "                      2       \n",
       "                    Rₚ        "
      ]
     },
     "execution_count": 76,
     "metadata": {},
     "output_type": "execute_result"
    }
   ],
   "source": [
    "E_dep = sympy.Symbol(r'E_{\\rm dep}') # Liberated energy in TDE\n",
    "_ = M_star*v_inf**2\n",
    "_ = _.subs(v_inf,sympy.sqrt(G*M_bh*R_star/R_p**2))\n",
    "eqn_15 = sympy.Eq(E_dep,_)\n",
    "eqn_15"
   ]
  },
  {
   "cell_type": "code",
   "execution_count": null,
   "metadata": {
    "collapsed": true
   },
   "outputs": [],
   "source": []
  }
 ],
 "metadata": {
  "kernelspec": {
   "display_name": "Python 3",
   "language": "python",
   "name": "python3"
  },
  "language_info": {
   "codemirror_mode": {
    "name": "ipython",
    "version": 3
   },
   "file_extension": ".py",
   "mimetype": "text/x-python",
   "name": "python",
   "nbconvert_exporter": "python",
   "pygments_lexer": "ipython3",
   "version": "3.6.1"
  }
 },
 "nbformat": 4,
 "nbformat_minor": 2
}
